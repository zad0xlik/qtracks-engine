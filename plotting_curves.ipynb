{
 "cells": [
  {
   "cell_type": "code",
   "execution_count": 52,
   "metadata": {},
   "outputs": [],
   "source": [
    "import pandas as pd\n",
    "import numpy as np\n",
    "from scipy.signal import savgol_filter\n",
    "import time\n",
    "import random\n",
    "from functools import reduce\n",
    "from chart_studio.plotly import iplot as py\n",
    "import plotly.express as px\n",
    "import plotly.graph_objects as go\n",
    "import plotly.figure_factory as ff\n",
    "import matplotlib.pyplot as plt\n",
    "import modules.Pricing"
   ]
  },
  {
   "cell_type": "code",
   "execution_count": 57,
   "metadata": {},
   "outputs": [],
   "source": [
    "def rolling_window_calc(df_input, win_size= 6, min_periods=1, verbose= False, plotting=False):\n",
    "    \n",
    "    \"\"\"\n",
    "    win_size :: number of months to run the rolling average\n",
    "    min_periods :: \n",
    "    \n",
    "    \"\"\"\n",
    "    start = time.time()\n",
    "    print('running rolling_window_calc..')\n",
    "    \n",
    "    cols = df_input.columns.tolist()\n",
    "    df = pd.DataFrame()\n",
    "    df_output = pd.DataFrame()\n",
    "    \n",
    "    if verbose: print('processing ' + str(df_input.shape[1]) + ' columns.'); print('col number: '); count = 0;\n",
    "    for col in cols:\n",
    "        count += 1\n",
    "        if verbose and count % 500 == 0: print('col ' + str(count) + ' col_name: ' + str(col))\n",
    "        \n",
    "        # Normalize the data    \n",
    "        A = np.nanmin(df_input[col], axis=0)\n",
    "        B = np.nanmax(df_input[col], axis=0)-np.nanmin(df_input[col], axis=0)\n",
    "        y = (df_input[col] - A) / B if B > 0 else df_input[col]        \n",
    "        df['data'] = y\n",
    "        df['mean'] = y.rolling(win_size, min_periods).mean()\n",
    "        # df['std'] = y.rolling(win_size, min_periods=1).std()\n",
    "        # df['median'] = y.rolling(win_size, min_periods=1).median()\n",
    "        \n",
    "        # De-Normalize the data\n",
    "        df_output[col] = A + (df['mean'] * B) if B > 0 else df['mean']\n",
    "        \n",
    "        if plotting:\n",
    "            x = np.arange(len(y))\n",
    "            plt.plot(x,df['data'], 'lightgray', label='data'); \n",
    "            plt.plot(x,df['mean'], 'green', label='rolling mean');\n",
    "            #plt.plot(x,df['median'], 'red', label='rolling median');\n",
    "            #plt.plot(x,df['std'], 'lightblue', label='rolling std');\n",
    "\n",
    "    if verbose:\n",
    "        print('Input DataFrame:')\n",
    "        print('- shape: ', df_input.shape)\n",
    "        print('- Null Counts: ', df_input.isnull().sum().sum())\n",
    "        print('Output DataFrame:')\n",
    "        print('- shape: ', df_output.shape)\n",
    "        print('- Null Counts: ', df_output.isnull().sum().sum())\n",
    "\n",
    "    end = time.time()\n",
    "    print('time: ', \"{0:.2f}\".format(end - start))\n",
    "    \n",
    "    return df_output\n",
    "\n",
    "def visualize_rolling_win(df_before, df_after, n_samples= 8, random_state= 100):\n",
    "    random.seed(random_state)\n",
    "    n_samples = n_samples\n",
    "    plt.figure(figsize = (20, n_samples*3))\n",
    "    count = 1\n",
    "    while count < 2 * n_samples:\n",
    "        col = random.choice(df_before.columns)\n",
    "        if df_before[col].isnull().sum() == 0:\n",
    "            x = np.arange(len(df_before[col]))\n",
    "            plt.subplot(n_samples,4,count)\n",
    "            plt.plot(x,df_before[col], 'lightgray', label='imputed data');\n",
    "            plt.plot(x,df_after[col], 'blue', label='despiked data');\n",
    "            plt.legend();\n",
    "            count += 1\n",
    "\n",
    "def savgol_filter_smoothing(df_input, sg_window_length, sg_polyorder, sg_mode='nearest', verbose=False):\n",
    "    \"\"\"\n",
    "    ip_method :: ‘linear’: Ignore the index and treat the values as equally spaced.\n",
    "    ip_limit :: Maximum number of consecutive NaNs to fill. Must be greater than 0.\n",
    "    \"\"\" \n",
    "    start = time.time()\n",
    "    print('running savgol_filter_smoothing..')\n",
    "    \n",
    "    cols = df_input.columns.tolist()\n",
    "    df_output = df_input.copy(deep=True)\n",
    "    \n",
    "    for col in cols:\n",
    "        \n",
    "        y_input = np.array(df_output[col])\n",
    "        y_smooth = savgol_filter(y_input, window_length= sg_window_length, polyorder= sg_polyorder, mode= sg_mode)\n",
    "        \n",
    "        # Make sure smoothing process doesn't add more missing values: if it does, then overwrite the NaN from input data\n",
    "        if np.count_nonzero(~np.isnan(y_input)) > np.count_nonzero(~np.isnan(y_smooth)):\n",
    "            #print(np.count_nonzero(np.isnan(y_input)), np.count_nonzero(np.isnan(y_smooth)))\n",
    "            not_null_y = pd.Series(list(map(int, ~np.isnan(y_input))))\n",
    "            null_ysmooth = pd.Series(list(map(int, np.isnan(y_smooth))))\n",
    "            mask_list = not_null_y * null_ysmooth\n",
    "            y_add = mask_list * y_input\n",
    "            y_smooth_filled = np.nan_to_num(y_smooth)\n",
    "            #print(y_smooth)\n",
    "            y_smooth = np.array(y_smooth_filled + y_add)\n",
    "            #print(y_smooth)\n",
    "            #break\n",
    "            #print(np.count_nonzero(np.isnan(y_input)), np.count_nonzero(np.isnan(y_smooth)),'\\n')\n",
    "        \n",
    "        df_output[col] = y_smooth\n",
    "        #print(df_output[col].isnull().sum())\n",
    "    \n",
    "    # print results\n",
    "    if verbose:\n",
    "        print('Input DataFrame:')\n",
    "        print('- shape: ', df_input.shape)\n",
    "        print('- Null Counts: ', df_input.isnull().sum().sum())        \n",
    "        print('Output DataFrame:')\n",
    "        print('- shape: ', df_output.shape)\n",
    "        print('- Null Counts: ', df_output.isnull().sum().sum())   \n",
    "    \n",
    "    end = time.time()\n",
    "    print('time: ',\"{0:.2f}\".format(end - start))\n",
    "    \n",
    "    return df_output"
   ]
  },
  {
   "cell_type": "code",
   "execution_count": 78,
   "metadata": {},
   "outputs": [
    {
     "name": "stdout",
     "output_type": "stream",
     "text": [
      "running rolling_window_calc..\n",
      "processing 1 columns.\n",
      "col number: \n",
      "Input DataFrame:\n",
      "- shape:  (21, 1)\n",
      "- Null Counts:  0\n",
      "Output DataFrame:\n",
      "- shape:  (21, 1)\n",
      "- Null Counts:  0\n",
      "time:  0.01\n",
      "running savgol_filter_smoothing..\n",
      "time:  0.00\n"
     ]
    },
    {
     "data": {
      "image/png": "[encoded data removed]",
      "text/plain": [
       "<Figure size 1440x720 with 1 Axes>"
      ]
     },
     "metadata": {
      "needs_background": "light"
     },
     "output_type": "display_data"
    }
   ],
   "source": [
    "# ivBidMarket = [1.1833, 1.1568, 1.1344, 1.1734, 1.1615, 1.2603, 1.162, 1.1767, 1.2855, 1.1403, 1.22, 1.125, 1.1531, 1.23, 1.1009, 1.2429, 1.1704, 1.3713, 1.188, 1.2026, 1.07]\n",
    "ivBidMarket = [1.2138, 1.1851, 1.1609, 1.198, 1.1846, 1.282, 1.182, 1.1941, 1.304, 1.1575, 1.2366, 1.1405, 1.1683, 1.2445, 1.1142, 1.2563, 1.183, 1.3844, 1.1999, 1.2112, 1.0803]\n",
    "ivBidMarketFit = [1.218, 1.174, 1.171, 1.187, 1.208, 1.226, 1.234, 1.233, 1.222, 1.207, 1.19, 1.178, 1.173, 1.179, 1.196, 1.221, 1.249, 1.268, 1.263, 1.208, 1.076]\n",
    "ivBidMarketdf = pd.DataFrame(ivBidMarket)\n",
    "\n",
    "ivBidMarketdf[1] = rolling_window_calc(ivBidMarketdf, win_size= 3, min_periods=1, verbose= True, plotting=False)\n",
    "\n",
    "in_window_length = 5\n",
    "in_polyorder = 3\n",
    "in_mode = 'nearest'\n",
    "# ivBidMarketdf[2] = savgol_filter_smoothing(ivBidMarketdf[0], window_length= sg_window_length, polyorder= sg_polyorder, mode= sg_mode)\n",
    "ivBidMarketdf[2] = savgol_filter_smoothing(pd.DataFrame(ivBidMarketdf[0]), sg_window_length= in_window_length, sg_polyorder= in_polyorder)\n",
    "\n",
    "ivBidMarketdf['x'] = ivBidMarketdf.reset_index()['index']\n",
    "ivBidMarketdf['champ'] = ivBidMarketFit\n",
    "\n",
    "df = pd.DataFrame({\n",
    "   'base': ivBidMarketdf[0],\n",
    "   'champ': ivBidMarketdf['champ'],\n",
    "   'rolling_window_calc': ivBidMarketdf[1],\n",
    "   'savgol_filter_smoothing': ivBidMarketdf[2]\n",
    "   }, index=ivBidMarketdf[\"x\"])\n",
    "lines = df.plot.line(figsize=(20,10))\n",
    "\n",
    "# ivBidMarketdf.columns\n",
    "# visualize_rolling_win(ivBidMarketdf,ivBidMarketdf,n_samples= 2, random_state= 100)\n",
    "\n",
    "# ivBidMarketdf[0].plot.line()"
   ]
  },
  {
   "cell_type": "code",
   "execution_count": 110,
   "metadata": {},
   "outputs": [
    {
     "name": "stdout",
     "output_type": "stream",
     "text": [
      "running savgol_filter_smoothing..\n",
      "time:  0.00\n"
     ]
    },
    {
     "data": {
      "text/plain": [
       "[1.2084942857142857,\n",
       " 1.1830771428571425,\n",
       " 1.1753514285714282,\n",
       " 1.1745914285714285,\n",
       " 1.224842857142857,\n",
       " 1.2290542857142854,\n",
       " 1.2097542857142853,\n",
       " 1.2232342857142855,\n",
       " 1.232325714285714,\n",
       " 1.2331685714285712,\n",
       " 1.1766085714285712,\n",
       " 1.172608571428571,\n",
       " 1.1836771428571424,\n",
       " 1.181602857142857,\n",
       " 1.1970599999999996,\n",
       " 1.1724799999999997,\n",
       " 1.2816314285714283,\n",
       " 1.2779171428571428,\n",
       " 1.2787314285714284,\n",
       " 1.15882,\n",
       " 1.1149285714285713]"
      ]
     },
     "execution_count": 110,
     "metadata": {},
     "output_type": "execute_result"
    }
   ],
   "source": [
    "\n",
    "# ivBidMarketdf[1].index\n",
    "BidIVFitSavgol = savgol_filter_smoothing(pd.DataFrame(ivBidMarketdf[0]), sg_window_length= in_window_length, sg_polyorder= in_polyorder)\n",
    "BidIVFitSavgol[0].index\n",
    "\n",
    "BidIVFitSavgolSeries = pd.Series(BidIVFitSavgol[0].values, index=BidIVFitSavgol[0].index)\n",
    "# BidIVFitSavgolSeries\n",
    "\n",
    "list(BidIVFitSavgol[0].values)"
   ]
  },
  {
   "cell_type": "code",
   "execution_count": 96,
   "metadata": {},
   "outputs": [
    {
     "name": "stdout",
     "output_type": "stream",
     "text": [
      "dict_keys([7, 8, 9, 10, 11, 12])\n",
      "-----\n",
      "7\n",
      "-----\n",
      "8\n",
      "-----\n",
      "9\n",
      "-----\n",
      "10\n",
      "-----\n",
      "11\n",
      "-----\n",
      "12\n",
      "{}\n"
     ]
    }
   ],
   "source": [
    "def filterTheDict(dictObj, callback):\n",
    "    newDict = dict()\n",
    "    # Iterate over all the items in dictionary\n",
    "    for (key, value) in dictObj.items():\n",
    "        # Check if item satisfies the given condition then add to new dict\n",
    "        if callback((key, value)):\n",
    "            newDict[key] = value\n",
    "    return newDict\n",
    "\n",
    "dictOfNames = {\n",
    "   7 : 'sam',\n",
    "   8: 'john',\n",
    "   9: 'mathew',\n",
    "   10: 'riti',\n",
    "   11 : 'aadi',\n",
    "   12 : 'sachin'\n",
    "}\n",
    "\n",
    "print(dictOfNames.keys())\n",
    "for strike in dictOfNames.keys():\n",
    "    print(\"-----\")\n",
    "    print(strike)\n",
    "\n",
    "# newDict = filterTheDict(dictOfNames, lambda elem: elem[0] == 6)\n",
    "\n",
    "\n",
    "print(newDict)\n"
   ]
  },
  {
   "cell_type": "code",
   "execution_count": 97,
   "metadata": {},
   "outputs": [
    {
     "data": {
      "application/vnd.plotly.v1+json": {
       "config": {
        "plotlyServerURL": "https://plot.ly"
       },
       "data": [
        {
         "hoverlabel": {
          "namelength": 0
         },
         "hovertemplate": "x=%{x}<br>0=%{y}",
         "legendgroup": "",
         "line": {
          "color": "#636efa",
          "dash": "solid"
         },
         "mode": "lines",
         "name": "",
         "showlegend": false,
         "type": "scatter",
         "x": [
          0,
          1,
          2,
          3,
          4,
          5,
          6,
          7,
          8,
          9,
          10,
          11,
          12,
          13,
          14,
          15,
          16,
          17,
          18,
          19,
          20
         ],
         "xaxis": "x",
         "y": [
          1.2138,
          1.1851,
          1.1609,
          1.198,
          1.1846,
          1.282,
          1.182,
          1.1941,
          1.304,
          1.1575,
          1.2366,
          1.1405,
          1.1683,
          1.2445,
          1.1142,
          1.2563,
          1.183,
          1.3844,
          1.1999,
          1.2112,
          1.0803
         ],
         "yaxis": "y"
        }
       ],
       "layout": {
        "height": 600,
        "legend": {
         "tracegroupgap": 0
        },
        "margin": {
         "t": 60
        },
        "template": {
         "data": {
          "bar": [
           {
            "error_x": {
             "color": "#2a3f5f"
            },
            "error_y": {
             "color": "#2a3f5f"
            },
            "marker": {
             "line": {
              "color": "#E5ECF6",
              "width": 0.5
             }
            },
            "type": "bar"
           }
          ],
          "barpolar": [
           {
            "marker": {
             "line": {
              "color": "#E5ECF6",
              "width": 0.5
             }
            },
            "type": "barpolar"
           }
          ],
          "carpet": [
           {
            "aaxis": {
             "endlinecolor": "#2a3f5f",
             "gridcolor": "white",
             "linecolor": "white",
             "minorgridcolor": "white",
             "startlinecolor": "#2a3f5f"
            },
            "baxis": {
             "endlinecolor": "#2a3f5f",
             "gridcolor": "white",
             "linecolor": "white",
             "minorgridcolor": "white",
             "startlinecolor": "#2a3f5f"
            },
            "type": "carpet"
           }
          ],
          "choropleth": [
           {
            "colorbar": {
             "outlinewidth": 0,
             "ticks": ""
            },
            "type": "choropleth"
           }
          ],
          "contour": [
           {
            "colorbar": {
             "outlinewidth": 0,
             "ticks": ""
            },
            "colorscale": [
             [
              0,
              "#0d0887"
             ],
             [
              0.1111111111111111,
              "#46039f"
             ],
             [
              0.2222222222222222,
              "#7201a8"
             ],
             [
              0.3333333333333333,
              "#9c179e"
             ],
             [
              0.4444444444444444,
              "#bd3786"
             ],
             [
              0.5555555555555556,
              "#d8576b"
             ],
             [
              0.6666666666666666,
              "#ed7953"
             ],
             [
              0.7777777777777778,
              "#fb9f3a"
             ],
             [
              0.8888888888888888,
              "#fdca26"
             ],
             [
              1,
              "#f0f921"
             ]
            ],
            "type": "contour"
           }
          ],
          "contourcarpet": [
           {
            "colorbar": {
             "outlinewidth": 0,
             "ticks": ""
            },
            "type": "contourcarpet"
           }
          ],
          "heatmap": [
           {
            "colorbar": {
             "outlinewidth": 0,
             "ticks": ""
            },
            "colorscale": [
             [
              0,
              "#0d0887"
             ],
             [
              0.1111111111111111,
              "#46039f"
             ],
             [
              0.2222222222222222,
              "#7201a8"
             ],
             [
              0.3333333333333333,
              "#9c179e"
             ],
             [
              0.4444444444444444,
              "#bd3786"
             ],
             [
              0.5555555555555556,
              "#d8576b"
             ],
             [
              0.6666666666666666,
              "#ed7953"
             ],
             [
              0.7777777777777778,
              "#fb9f3a"
             ],
             [
              0.8888888888888888,
              "#fdca26"
             ],
             [
              1,
              "#f0f921"
             ]
            ],
            "type": "heatmap"
           }
          ],
          "heatmapgl": [
           {
            "colorbar": {
             "outlinewidth": 0,
             "ticks": ""
            },
            "colorscale": [
             [
              0,
              "#0d0887"
             ],
             [
              0.1111111111111111,
              "#46039f"
             ],
             [
              0.2222222222222222,
              "#7201a8"
             ],
             [
              0.3333333333333333,
              "#9c179e"
             ],
             [
              0.4444444444444444,
              "#bd3786"
             ],
             [
              0.5555555555555556,
              "#d8576b"
             ],
             [
              0.6666666666666666,
              "#ed7953"
             ],
             [
              0.7777777777777778,
              "#fb9f3a"
             ],
             [
              0.8888888888888888,
              "#fdca26"
             ],
             [
              1,
              "#f0f921"
             ]
            ],
            "type": "heatmapgl"
           }
          ],
          "histogram": [
           {
            "marker": {
             "colorbar": {
              "outlinewidth": 0,
              "ticks": ""
             }
            },
            "type": "histogram"
           }
          ],
          "histogram2d": [
           {
            "colorbar": {
             "outlinewidth": 0,
             "ticks": ""
            },
            "colorscale": [
             [
              0,
              "#0d0887"
             ],
             [
              0.1111111111111111,
              "#46039f"
             ],
             [
              0.2222222222222222,
              "#7201a8"
             ],
             [
              0.3333333333333333,
              "#9c179e"
             ],
             [
              0.4444444444444444,
              "#bd3786"
             ],
             [
              0.5555555555555556,
              "#d8576b"
             ],
             [
              0.6666666666666666,
              "#ed7953"
             ],
             [
              0.7777777777777778,
              "#fb9f3a"
             ],
             [
              0.8888888888888888,
              "#fdca26"
             ],
             [
              1,
              "#f0f921"
             ]
            ],
            "type": "histogram2d"
           }
          ],
          "histogram2dcontour": [
           {
            "colorbar": {
             "outlinewidth": 0,
             "ticks": ""
            },
            "colorscale": [
             [
              0,
              "#0d0887"
             ],
             [
              0.1111111111111111,
              "#46039f"
             ],
             [
              0.2222222222222222,
              "#7201a8"
             ],
             [
              0.3333333333333333,
              "#9c179e"
             ],
             [
              0.4444444444444444,
              "#bd3786"
             ],
             [
              0.5555555555555556,
              "#d8576b"
             ],
             [
              0.6666666666666666,
              "#ed7953"
             ],
             [
              0.7777777777777778,
              "#fb9f3a"
             ],
             [
              0.8888888888888888,
              "#fdca26"
             ],
             [
              1,
              "#f0f921"
             ]
            ],
            "type": "histogram2dcontour"
           }
          ],
          "mesh3d": [
           {
            "colorbar": {
             "outlinewidth": 0,
             "ticks": ""
            },
            "type": "mesh3d"
           }
          ],
          "parcoords": [
           {
            "line": {
             "colorbar": {
              "outlinewidth": 0,
              "ticks": ""
             }
            },
            "type": "parcoords"
           }
          ],
          "scatter": [
           {
            "marker": {
             "colorbar": {
              "outlinewidth": 0,
              "ticks": ""
             }
            },
            "type": "scatter"
           }
          ],
          "scatter3d": [
           {
            "line": {
             "colorbar": {
              "outlinewidth": 0,
              "ticks": ""
             }
            },
            "marker": {
             "colorbar": {
              "outlinewidth": 0,
              "ticks": ""
             }
            },
            "type": "scatter3d"
           }
          ],
          "scattercarpet": [
           {
            "marker": {
             "colorbar": {
              "outlinewidth": 0,
              "ticks": ""
             }
            },
            "type": "scattercarpet"
           }
          ],
          "scattergeo": [
           {
            "marker": {
             "colorbar": {
              "outlinewidth": 0,
              "ticks": ""
             }
            },
            "type": "scattergeo"
           }
          ],
          "scattergl": [
           {
            "marker": {
             "colorbar": {
              "outlinewidth": 0,
              "ticks": ""
             }
            },
            "type": "scattergl"
           }
          ],
          "scattermapbox": [
           {
            "marker": {
             "colorbar": {
              "outlinewidth": 0,
              "ticks": ""
             }
            },
            "type": "scattermapbox"
           }
          ],
          "scatterpolar": [
           {
            "marker": {
             "colorbar": {
              "outlinewidth": 0,
              "ticks": ""
             }
            },
            "type": "scatterpolar"
           }
          ],
          "scatterpolargl": [
           {
            "marker": {
             "colorbar": {
              "outlinewidth": 0,
              "ticks": ""
             }
            },
            "type": "scatterpolargl"
           }
          ],
          "scatterternary": [
           {
            "marker": {
             "colorbar": {
              "outlinewidth": 0,
              "ticks": ""
             }
            },
            "type": "scatterternary"
           }
          ],
          "surface": [
           {
            "colorbar": {
             "outlinewidth": 0,
             "ticks": ""
            },
            "colorscale": [
             [
              0,
              "#0d0887"
             ],
             [
              0.1111111111111111,
              "#46039f"
             ],
             [
              0.2222222222222222,
              "#7201a8"
             ],
             [
              0.3333333333333333,
              "#9c179e"
             ],
             [
              0.4444444444444444,
              "#bd3786"
             ],
             [
              0.5555555555555556,
              "#d8576b"
             ],
             [
              0.6666666666666666,
              "#ed7953"
             ],
             [
              0.7777777777777778,
              "#fb9f3a"
             ],
             [
              0.8888888888888888,
              "#fdca26"
             ],
             [
              1,
              "#f0f921"
             ]
            ],
            "type": "surface"
           }
          ],
          "table": [
           {
            "cells": {
             "fill": {
              "color": "#EBF0F8"
             },
             "line": {
              "color": "white"
             }
            },
            "header": {
             "fill": {
              "color": "#C8D4E3"
             },
             "line": {
              "color": "white"
             }
            },
            "type": "table"
           }
          ]
         },
         "layout": {
          "annotationdefaults": {
           "arrowcolor": "#2a3f5f",
           "arrowhead": 0,
           "arrowwidth": 1
          },
          "colorscale": {
           "diverging": [
            [
             0,
             "#8e0152"
            ],
            [
             0.1,
             "#c51b7d"
            ],
            [
             0.2,
             "#de77ae"
            ],
            [
             0.3,
             "#f1b6da"
            ],
            [
             0.4,
             "#fde0ef"
            ],
            [
             0.5,
             "#f7f7f7"
            ],
            [
             0.6,
             "#e6f5d0"
            ],
            [
             0.7,
             "#b8e186"
            ],
            [
             0.8,
             "#7fbc41"
            ],
            [
             0.9,
             "#4d9221"
            ],
            [
             1,
             "#276419"
            ]
           ],
           "sequential": [
            [
             0,
             "#0d0887"
            ],
            [
             0.1111111111111111,
             "#46039f"
            ],
            [
             0.2222222222222222,
             "#7201a8"
            ],
            [
             0.3333333333333333,
             "#9c179e"
            ],
            [
             0.4444444444444444,
             "#bd3786"
            ],
            [
             0.5555555555555556,
             "#d8576b"
            ],
            [
             0.6666666666666666,
             "#ed7953"
            ],
            [
             0.7777777777777778,
             "#fb9f3a"
            ],
            [
             0.8888888888888888,
             "#fdca26"
            ],
            [
             1,
             "#f0f921"
            ]
           ],
           "sequentialminus": [
            [
             0,
             "#0d0887"
            ],
            [
             0.1111111111111111,
             "#46039f"
            ],
            [
             0.2222222222222222,
             "#7201a8"
            ],
            [
             0.3333333333333333,
             "#9c179e"
            ],
            [
             0.4444444444444444,
             "#bd3786"
            ],
            [
             0.5555555555555556,
             "#d8576b"
            ],
            [
             0.6666666666666666,
             "#ed7953"
            ],
            [
             0.7777777777777778,
             "#fb9f3a"
            ],
            [
             0.8888888888888888,
             "#fdca26"
            ],
            [
             1,
             "#f0f921"
            ]
           ]
          },
          "colorway": [
           "#636efa",
           "#EF553B",
           "#00cc96",
           "#ab63fa",
           "#FFA15A",
           "#19d3f3",
           "#FF6692",
           "#B6E880",
           "#FF97FF",
           "#FECB52"
          ],
          "font": {
           "color": "#2a3f5f"
          },
          "geo": {
           "bgcolor": "white",
           "lakecolor": "white",
           "landcolor": "#E5ECF6",
           "showlakes": true,
           "showland": true,
           "subunitcolor": "white"
          },
          "hoverlabel": {
           "align": "left"
          },
          "hovermode": "closest",
          "mapbox": {
           "style": "light"
          },
          "paper_bgcolor": "white",
          "plot_bgcolor": "#E5ECF6",
          "polar": {
           "angularaxis": {
            "gridcolor": "white",
            "linecolor": "white",
            "ticks": ""
           },
           "bgcolor": "#E5ECF6",
           "radialaxis": {
            "gridcolor": "white",
            "linecolor": "white",
            "ticks": ""
           }
          },
          "scene": {
           "xaxis": {
            "backgroundcolor": "#E5ECF6",
            "gridcolor": "white",
            "gridwidth": 2,
            "linecolor": "white",
            "showbackground": true,
            "ticks": "",
            "zerolinecolor": "white"
           },
           "yaxis": {
            "backgroundcolor": "#E5ECF6",
            "gridcolor": "white",
            "gridwidth": 2,
            "linecolor": "white",
            "showbackground": true,
            "ticks": "",
            "zerolinecolor": "white"
           },
           "zaxis": {
            "backgroundcolor": "#E5ECF6",
            "gridcolor": "white",
            "gridwidth": 2,
            "linecolor": "white",
            "showbackground": true,
            "ticks": "",
            "zerolinecolor": "white"
           }
          },
          "shapedefaults": {
           "line": {
            "color": "#2a3f5f"
           }
          },
          "ternary": {
           "aaxis": {
            "gridcolor": "white",
            "linecolor": "white",
            "ticks": ""
           },
           "baxis": {
            "gridcolor": "white",
            "linecolor": "white",
            "ticks": ""
           },
           "bgcolor": "#E5ECF6",
           "caxis": {
            "gridcolor": "white",
            "linecolor": "white",
            "ticks": ""
           }
          },
          "title": {
           "x": 0.05
          },
          "xaxis": {
           "automargin": true,
           "gridcolor": "white",
           "linecolor": "white",
           "ticks": "",
           "zerolinecolor": "white",
           "zerolinewidth": 2
          },
          "yaxis": {
           "automargin": true,
           "gridcolor": "white",
           "linecolor": "white",
           "ticks": "",
           "zerolinecolor": "white",
           "zerolinewidth": 2
          }
         }
        },
        "xaxis": {
         "anchor": "y",
         "domain": [
          0,
          0.98
         ],
         "title": {
          "text": "x"
         }
        },
        "yaxis": {
         "anchor": "x",
         "domain": [
          0,
          1
         ],
         "title": {
          "text": "0"
         }
        }
       }
      },
      "text/html": [
       "<div>\n",
       "        \n",
       "        \n",
       "            <div id=\"0bff9999-94d1-4344-8cd0-ab2a09961526\" class=\"plotly-graph-div\" style=\"height:600px; width:100%;\"></div>\n",
       "            <script type=\"text/javascript\">\n",
       "                require([\"plotly\"], function(Plotly) {\n",
       "                    window.PLOTLYENV=window.PLOTLYENV || {};\n",
       "                    \n",
       "                if (document.getElementById(\"0bff9999-94d1-4344-8cd0-ab2a09961526\")) {\n",
       "                    Plotly.newPlot(\n",
       "                        '0bff9999-94d1-4344-8cd0-ab2a09961526',\n",
       "                        [{\"hoverlabel\": {\"namelength\": 0}, \"hovertemplate\": \"x=%{x}<br>0=%{y}\", \"legendgroup\": \"\", \"line\": {\"color\": \"#636efa\", \"dash\": \"solid\"}, \"mode\": \"lines\", \"name\": \"\", \"showlegend\": false, \"type\": \"scatter\", \"x\": [0, 1, 2, 3, 4, 5, 6, 7, 8, 9, 10, 11, 12, 13, 14, 15, 16, 17, 18, 19, 20], \"xaxis\": \"x\", \"y\": [1.2138, 1.1851, 1.1609, 1.198, 1.1846, 1.282, 1.182, 1.1941, 1.304, 1.1575, 1.2366, 1.1405, 1.1683, 1.2445, 1.1142, 1.2563, 1.183, 1.3844, 1.1999, 1.2112, 1.0803], \"yaxis\": \"y\"}],\n",
       "                        {\"height\": 600, \"legend\": {\"tracegroupgap\": 0}, \"margin\": {\"t\": 60}, \"template\": {\"data\": {\"bar\": [{\"error_x\": {\"color\": \"#2a3f5f\"}, \"error_y\": {\"color\": \"#2a3f5f\"}, \"marker\": {\"line\": {\"color\": \"#E5ECF6\", \"width\": 0.5}}, \"type\": \"bar\"}], \"barpolar\": [{\"marker\": {\"line\": {\"color\": \"#E5ECF6\", \"width\": 0.5}}, \"type\": \"barpolar\"}], \"carpet\": [{\"aaxis\": {\"endlinecolor\": \"#2a3f5f\", \"gridcolor\": \"white\", \"linecolor\": \"white\", \"minorgridcolor\": \"white\", \"startlinecolor\": \"#2a3f5f\"}, \"baxis\": {\"endlinecolor\": \"#2a3f5f\", \"gridcolor\": \"white\", \"linecolor\": \"white\", \"minorgridcolor\": \"white\", \"startlinecolor\": \"#2a3f5f\"}, \"type\": \"carpet\"}], \"choropleth\": [{\"colorbar\": {\"outlinewidth\": 0, \"ticks\": \"\"}, \"type\": \"choropleth\"}], \"contour\": [{\"colorbar\": {\"outlinewidth\": 0, \"ticks\": \"\"}, \"colorscale\": [[0.0, \"#0d0887\"], [0.1111111111111111, \"#46039f\"], [0.2222222222222222, \"#7201a8\"], [0.3333333333333333, \"#9c179e\"], [0.4444444444444444, \"#bd3786\"], [0.5555555555555556, \"#d8576b\"], [0.6666666666666666, \"#ed7953\"], [0.7777777777777778, \"#fb9f3a\"], [0.8888888888888888, \"#fdca26\"], [1.0, \"#f0f921\"]], \"type\": \"contour\"}], \"contourcarpet\": [{\"colorbar\": {\"outlinewidth\": 0, \"ticks\": \"\"}, \"type\": \"contourcarpet\"}], \"heatmap\": [{\"colorbar\": {\"outlinewidth\": 0, \"ticks\": \"\"}, \"colorscale\": [[0.0, \"#0d0887\"], [0.1111111111111111, \"#46039f\"], [0.2222222222222222, \"#7201a8\"], [0.3333333333333333, \"#9c179e\"], [0.4444444444444444, \"#bd3786\"], [0.5555555555555556, \"#d8576b\"], [0.6666666666666666, \"#ed7953\"], [0.7777777777777778, \"#fb9f3a\"], [0.8888888888888888, \"#fdca26\"], [1.0, \"#f0f921\"]], \"type\": \"heatmap\"}], \"heatmapgl\": [{\"colorbar\": {\"outlinewidth\": 0, \"ticks\": \"\"}, \"colorscale\": [[0.0, \"#0d0887\"], [0.1111111111111111, \"#46039f\"], [0.2222222222222222, \"#7201a8\"], [0.3333333333333333, \"#9c179e\"], [0.4444444444444444, \"#bd3786\"], [0.5555555555555556, \"#d8576b\"], [0.6666666666666666, \"#ed7953\"], [0.7777777777777778, \"#fb9f3a\"], [0.8888888888888888, \"#fdca26\"], [1.0, \"#f0f921\"]], \"type\": \"heatmapgl\"}], \"histogram\": [{\"marker\": {\"colorbar\": {\"outlinewidth\": 0, \"ticks\": \"\"}}, \"type\": \"histogram\"}], \"histogram2d\": [{\"colorbar\": {\"outlinewidth\": 0, \"ticks\": \"\"}, \"colorscale\": [[0.0, \"#0d0887\"], [0.1111111111111111, \"#46039f\"], [0.2222222222222222, \"#7201a8\"], [0.3333333333333333, \"#9c179e\"], [0.4444444444444444, \"#bd3786\"], [0.5555555555555556, \"#d8576b\"], [0.6666666666666666, \"#ed7953\"], [0.7777777777777778, \"#fb9f3a\"], [0.8888888888888888, \"#fdca26\"], [1.0, \"#f0f921\"]], \"type\": \"histogram2d\"}], \"histogram2dcontour\": [{\"colorbar\": {\"outlinewidth\": 0, \"ticks\": \"\"}, \"colorscale\": [[0.0, \"#0d0887\"], [0.1111111111111111, \"#46039f\"], [0.2222222222222222, \"#7201a8\"], [0.3333333333333333, \"#9c179e\"], [0.4444444444444444, \"#bd3786\"], [0.5555555555555556, \"#d8576b\"], [0.6666666666666666, \"#ed7953\"], [0.7777777777777778, \"#fb9f3a\"], [0.8888888888888888, \"#fdca26\"], [1.0, \"#f0f921\"]], \"type\": \"histogram2dcontour\"}], \"mesh3d\": [{\"colorbar\": {\"outlinewidth\": 0, \"ticks\": \"\"}, \"type\": \"mesh3d\"}], \"parcoords\": [{\"line\": {\"colorbar\": {\"outlinewidth\": 0, \"ticks\": \"\"}}, \"type\": \"parcoords\"}], \"scatter\": [{\"marker\": {\"colorbar\": {\"outlinewidth\": 0, \"ticks\": \"\"}}, \"type\": \"scatter\"}], \"scatter3d\": [{\"line\": {\"colorbar\": {\"outlinewidth\": 0, \"ticks\": \"\"}}, \"marker\": {\"colorbar\": {\"outlinewidth\": 0, \"ticks\": \"\"}}, \"type\": \"scatter3d\"}], \"scattercarpet\": [{\"marker\": {\"colorbar\": {\"outlinewidth\": 0, \"ticks\": \"\"}}, \"type\": \"scattercarpet\"}], \"scattergeo\": [{\"marker\": {\"colorbar\": {\"outlinewidth\": 0, \"ticks\": \"\"}}, \"type\": \"scattergeo\"}], \"scattergl\": [{\"marker\": {\"colorbar\": {\"outlinewidth\": 0, \"ticks\": \"\"}}, \"type\": \"scattergl\"}], \"scattermapbox\": [{\"marker\": {\"colorbar\": {\"outlinewidth\": 0, \"ticks\": \"\"}}, \"type\": \"scattermapbox\"}], \"scatterpolar\": [{\"marker\": {\"colorbar\": {\"outlinewidth\": 0, \"ticks\": \"\"}}, \"type\": \"scatterpolar\"}], \"scatterpolargl\": [{\"marker\": {\"colorbar\": {\"outlinewidth\": 0, \"ticks\": \"\"}}, \"type\": \"scatterpolargl\"}], \"scatterternary\": [{\"marker\": {\"colorbar\": {\"outlinewidth\": 0, \"ticks\": \"\"}}, \"type\": \"scatterternary\"}], \"surface\": [{\"colorbar\": {\"outlinewidth\": 0, \"ticks\": \"\"}, \"colorscale\": [[0.0, \"#0d0887\"], [0.1111111111111111, \"#46039f\"], [0.2222222222222222, \"#7201a8\"], [0.3333333333333333, \"#9c179e\"], [0.4444444444444444, \"#bd3786\"], [0.5555555555555556, \"#d8576b\"], [0.6666666666666666, \"#ed7953\"], [0.7777777777777778, \"#fb9f3a\"], [0.8888888888888888, \"#fdca26\"], [1.0, \"#f0f921\"]], \"type\": \"surface\"}], \"table\": [{\"cells\": {\"fill\": {\"color\": \"#EBF0F8\"}, \"line\": {\"color\": \"white\"}}, \"header\": {\"fill\": {\"color\": \"#C8D4E3\"}, \"line\": {\"color\": \"white\"}}, \"type\": \"table\"}]}, \"layout\": {\"annotationdefaults\": {\"arrowcolor\": \"#2a3f5f\", \"arrowhead\": 0, \"arrowwidth\": 1}, \"colorscale\": {\"diverging\": [[0, \"#8e0152\"], [0.1, \"#c51b7d\"], [0.2, \"#de77ae\"], [0.3, \"#f1b6da\"], [0.4, \"#fde0ef\"], [0.5, \"#f7f7f7\"], [0.6, \"#e6f5d0\"], [0.7, \"#b8e186\"], [0.8, \"#7fbc41\"], [0.9, \"#4d9221\"], [1, \"#276419\"]], \"sequential\": [[0.0, \"#0d0887\"], [0.1111111111111111, \"#46039f\"], [0.2222222222222222, \"#7201a8\"], [0.3333333333333333, \"#9c179e\"], [0.4444444444444444, \"#bd3786\"], [0.5555555555555556, \"#d8576b\"], [0.6666666666666666, \"#ed7953\"], [0.7777777777777778, \"#fb9f3a\"], [0.8888888888888888, \"#fdca26\"], [1.0, \"#f0f921\"]], \"sequentialminus\": [[0.0, \"#0d0887\"], [0.1111111111111111, \"#46039f\"], [0.2222222222222222, \"#7201a8\"], [0.3333333333333333, \"#9c179e\"], [0.4444444444444444, \"#bd3786\"], [0.5555555555555556, \"#d8576b\"], [0.6666666666666666, \"#ed7953\"], [0.7777777777777778, \"#fb9f3a\"], [0.8888888888888888, \"#fdca26\"], [1.0, \"#f0f921\"]]}, \"colorway\": [\"#636efa\", \"#EF553B\", \"#00cc96\", \"#ab63fa\", \"#FFA15A\", \"#19d3f3\", \"#FF6692\", \"#B6E880\", \"#FF97FF\", \"#FECB52\"], \"font\": {\"color\": \"#2a3f5f\"}, \"geo\": {\"bgcolor\": \"white\", \"lakecolor\": \"white\", \"landcolor\": \"#E5ECF6\", \"showlakes\": true, \"showland\": true, \"subunitcolor\": \"white\"}, \"hoverlabel\": {\"align\": \"left\"}, \"hovermode\": \"closest\", \"mapbox\": {\"style\": \"light\"}, \"paper_bgcolor\": \"white\", \"plot_bgcolor\": \"#E5ECF6\", \"polar\": {\"angularaxis\": {\"gridcolor\": \"white\", \"linecolor\": \"white\", \"ticks\": \"\"}, \"bgcolor\": \"#E5ECF6\", \"radialaxis\": {\"gridcolor\": \"white\", \"linecolor\": \"white\", \"ticks\": \"\"}}, \"scene\": {\"xaxis\": {\"backgroundcolor\": \"#E5ECF6\", \"gridcolor\": \"white\", \"gridwidth\": 2, \"linecolor\": \"white\", \"showbackground\": true, \"ticks\": \"\", \"zerolinecolor\": \"white\"}, \"yaxis\": {\"backgroundcolor\": \"#E5ECF6\", \"gridcolor\": \"white\", \"gridwidth\": 2, \"linecolor\": \"white\", \"showbackground\": true, \"ticks\": \"\", \"zerolinecolor\": \"white\"}, \"zaxis\": {\"backgroundcolor\": \"#E5ECF6\", \"gridcolor\": \"white\", \"gridwidth\": 2, \"linecolor\": \"white\", \"showbackground\": true, \"ticks\": \"\", \"zerolinecolor\": \"white\"}}, \"shapedefaults\": {\"line\": {\"color\": \"#2a3f5f\"}}, \"ternary\": {\"aaxis\": {\"gridcolor\": \"white\", \"linecolor\": \"white\", \"ticks\": \"\"}, \"baxis\": {\"gridcolor\": \"white\", \"linecolor\": \"white\", \"ticks\": \"\"}, \"bgcolor\": \"#E5ECF6\", \"caxis\": {\"gridcolor\": \"white\", \"linecolor\": \"white\", \"ticks\": \"\"}}, \"title\": {\"x\": 0.05}, \"xaxis\": {\"automargin\": true, \"gridcolor\": \"white\", \"linecolor\": \"white\", \"ticks\": \"\", \"zerolinecolor\": \"white\", \"zerolinewidth\": 2}, \"yaxis\": {\"automargin\": true, \"gridcolor\": \"white\", \"linecolor\": \"white\", \"ticks\": \"\", \"zerolinecolor\": \"white\", \"zerolinewidth\": 2}}}, \"xaxis\": {\"anchor\": \"y\", \"domain\": [0.0, 0.98], \"title\": {\"text\": \"x\"}}, \"yaxis\": {\"anchor\": \"x\", \"domain\": [0.0, 1.0], \"title\": {\"text\": \"0\"}}},\n",
       "                        {\"responsive\": true}\n",
       "                    ).then(function(){\n",
       "                            \n",
       "var gd = document.getElementById('0bff9999-94d1-4344-8cd0-ab2a09961526');\n",
       "var x = new MutationObserver(function (mutations, observer) {{\n",
       "        var display = window.getComputedStyle(gd).display;\n",
       "        if (!display || display === 'none') {{\n",
       "            console.log([gd, 'removed!']);\n",
       "            Plotly.purge(gd);\n",
       "            observer.disconnect();\n",
       "        }}\n",
       "}});\n",
       "\n",
       "// Listen for the removal of the full notebook cells\n",
       "var notebookContainer = gd.closest('#notebook-container');\n",
       "if (notebookContainer) {{\n",
       "    x.observe(notebookContainer, {childList: true});\n",
       "}}\n",
       "\n",
       "// Listen for the clearing of the current output cell\n",
       "var outputEl = gd.closest('.output');\n",
       "if (outputEl) {{\n",
       "    x.observe(outputEl, {childList: true});\n",
       "}}\n",
       "\n",
       "                        })\n",
       "                };\n",
       "                });\n",
       "            </script>\n",
       "        </div>"
      ]
     },
     "metadata": {},
     "output_type": "display_data"
    }
   ],
   "source": [
    "# visualize_rolling_win(ivBidMarketdf[0], ivBidMarketdf[1], n_samples= 8, random_state= 100)\n",
    "# print(ivBidMarketdf[0])\n",
    "\n",
    "# fig_impact_ts = go.Figure()\n",
    "# fig_impact_ts.add_trace(go.Scatter(\n",
    "#                             x=ivBidMarketdf['x'],\n",
    "#                             y=ivBidMarketdf[0],\n",
    "#                             mode='lines+markers',\n",
    "#                             line=dict(width=1),\n",
    "#                             marker=dict(\n",
    "#                                 size=5,\n",
    "#                                 colorscale='Viridis',\n",
    "#                                 showscale=False\n",
    "#                             ),\n",
    "#                             name='before'))\n",
    "\n",
    "# fig_impact_ts.add_trace(go.Scatter(\n",
    "#                             x=ivBidMarketdf['x'],\n",
    "#                             y=ivBidMarketdf[0],\n",
    "#                             mode='lines+markers',\n",
    "#                             line=dict(width=1),\n",
    "#                             marker=dict(\n",
    "#                                 size=5,\n",
    "#                                 colorscale='Viridis',\n",
    "#                                 showscale=False\n",
    "#                             ),\n",
    "\n",
    "#                             name='after'))\n",
    "\n",
    "\n",
    "# fig_impact_ts.show()\n",
    "\n",
    "fig = px.line(ivBidMarketdf, x=\"x\", y=0)\n",
    "fig.show()"
   ]
  },
  {
   "cell_type": "code",
   "execution_count": null,
   "metadata": {},
   "outputs": [],
   "source": []
  },
  {
   "cell_type": "code",
   "execution_count": 35,
   "metadata": {},
   "outputs": [
    {
     "data": {
      "text/plain": [
       "<matplotlib.axes._subplots.AxesSubplot at 0x13dc2dc90>"
      ]
     },
     "execution_count": 35,
     "metadata": {},
     "output_type": "execute_result"
    },
    {
     "data": {
      "image/png": "[encoded data removed]",
      "text/plain": [
       "<Figure size 432x288 with 1 Axes>"
      ]
     },
     "metadata": {
      "needs_background": "light"
     },
     "output_type": "display_data"
    }
   ],
   "source": []
  }
 ],
 "metadata": {
  "kernelspec": {
   "display_name": "Python 3",
   "language": "python",
   "name": "python3"
  },
  "language_info": {
   "codemirror_mode": {
    "name": "ipython",
    "version": 3
   },
   "file_extension": ".py",
   "mimetype": "text/x-python",
   "name": "python",
   "nbconvert_exporter": "python",
   "pygments_lexer": "ipython3",
   "version": "3.7.7"
  }
 },
 "nbformat": 4,
 "nbformat_minor": 4
}
